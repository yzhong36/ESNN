{
 "cells": [
  {
   "cell_type": "code",
   "execution_count": 1,
   "metadata": {},
   "outputs": [],
   "source": [
    "import pickle\n",
    "import os\n",
    "import numpy as np\n",
    "import matplotlib.pyplot as plt"
   ]
  },
  {
   "cell_type": "code",
   "execution_count": 2,
   "metadata": {},
   "outputs": [],
   "source": [
    "def cal_overlap(obj, real_index):\n",
    "\n",
    "    ratio = []\n",
    "    for i in range(0, len(obj)):\n",
    "        tmp = np.isin(np.array(real_index)[i], obj[i])\n",
    "        ratio.append(np.mean(tmp))\n",
    "    \n",
    "    return ratio\n"
   ]
  },
  {
   "cell_type": "code",
   "execution_count": 3,
   "metadata": {},
   "outputs": [
    {
     "data": {
      "text/plain": [
       "[[array([1]), array([3]), array([2]), array([0])],\n",
       " [array([0]), array([1]), array([4]), array([2]), array([3])],\n",
       " [array([2]), array([3]), array([1]), array([4]), array([0])],\n",
       " [array([3]), array([2]), array([4]), array([1]), array([0])],\n",
       " [array([3]), array([2]), array([0]), array([4]), array([1])],\n",
       " [array([0]), array([4]), array([3]), array([2]), array([1])],\n",
       " [array([3]), array([2]), array([1]), array([4]), array([0])],\n",
       " [array([0]), array([4]), array([2]), array([1]), array([3])],\n",
       " [array([2]), array([1]), array([0]), array([4]), array([3])],\n",
       " [array([0]), array([3]), array([1]), array([4]), array([2])]]"
      ]
     },
     "execution_count": 3,
     "metadata": {},
     "output_type": "execute_result"
    }
   ],
   "source": [
    "mv_dir_path = \"mvsusie_simulation\"\n",
    "\n",
    "with open(os.path.join('data', mv_dir_path, \"ESNN.obj\"), 'rb') as f:\n",
    "    mv_object = pickle.load(f)\n",
    "mv_object"
   ]
  },
  {
   "cell_type": "code",
   "execution_count": 4,
   "metadata": {},
   "outputs": [
    {
     "data": {
      "text/plain": [
       "[[array([46]),\n",
       "  array([190]),\n",
       "  array([63]),\n",
       "  array([199]),\n",
       "  array([184]),\n",
       "  array([31]),\n",
       "  array([49]),\n",
       "  array([77])],\n",
       " [array([108]),\n",
       "  array([124]),\n",
       "  array([89]),\n",
       "  array([39]),\n",
       "  array([84]),\n",
       "  array([184]),\n",
       "  array([87]),\n",
       "  array([132]),\n",
       "  array([161])],\n",
       " [array([10]),\n",
       "  array([157]),\n",
       "  array([38]),\n",
       "  array([47]),\n",
       "  array([119]),\n",
       "  array([136]),\n",
       "  array([139]),\n",
       "  array([181]),\n",
       "  array([103])],\n",
       " [array([20]),\n",
       "  array([45]),\n",
       "  array([34]),\n",
       "  array([4]),\n",
       "  array([130]),\n",
       "  array([103]),\n",
       "  array([123]),\n",
       "  array([173]),\n",
       "  array([113]),\n",
       "  array([198])],\n",
       " [array([46]),\n",
       "  array([100]),\n",
       "  array([16]),\n",
       "  array([34]),\n",
       "  array([56]),\n",
       "  array([126]),\n",
       "  array([114])],\n",
       " [array([164]),\n",
       "  array([197]),\n",
       "  array([123]),\n",
       "  array([150]),\n",
       "  array([55]),\n",
       "  array([91]),\n",
       "  array([157]),\n",
       "  array([46]),\n",
       "  array([35])],\n",
       " [array([82]),\n",
       "  array([108]),\n",
       "  array([69]),\n",
       "  array([46]),\n",
       "  array([101]),\n",
       "  array([194]),\n",
       "  array([103]),\n",
       "  array([148])],\n",
       " [array([21]),\n",
       "  array([64]),\n",
       "  array([117]),\n",
       "  array([67]),\n",
       "  array([13]),\n",
       "  array([197]),\n",
       "  array([122]),\n",
       "  array([146]),\n",
       "  array([7]),\n",
       "  array([174])],\n",
       " [array([187]),\n",
       "  array([16]),\n",
       "  array([83]),\n",
       "  array([136]),\n",
       "  array([171]),\n",
       "  array([170]),\n",
       "  array([51]),\n",
       "  array([109])],\n",
       " [array([65]),\n",
       "  array([176]),\n",
       "  array([4]),\n",
       "  array([163]),\n",
       "  array([29]),\n",
       "  array([126]),\n",
       "  array([148])]]"
      ]
     },
     "execution_count": 4,
     "metadata": {},
     "output_type": "execute_result"
    }
   ],
   "source": [
    "vim_dir_path = \"VIMCO_simulation\"\n",
    "\n",
    "with open(os.path.join('data', vim_dir_path, \"ESNN.obj\"), 'rb') as f:\n",
    "    vim_object = pickle.load(f)\n",
    "\n",
    "vim_object"
   ]
  },
  {
   "cell_type": "code",
   "execution_count": 5,
   "metadata": {},
   "outputs": [
    {
     "data": {
      "text/plain": [
       "[0.8, 1.0, 1.0, 1.0, 1.0, 1.0, 1.0, 1.0, 1.0, 1.0]"
      ]
     },
     "execution_count": 5,
     "metadata": {},
     "output_type": "execute_result"
    }
   ],
   "source": [
    "## mvsusie\n",
    "cs_mv_ref = [range(0,5) for i in range(0, 10)]\n",
    "cs_mvsusie = cal_overlap(mv_object, cs_mv_ref)\n",
    "cs_mvsusie   "
   ]
  },
  {
   "cell_type": "code",
   "execution_count": 6,
   "metadata": {},
   "outputs": [
    {
     "name": "stderr",
     "output_type": "stream",
     "text": [
      "/var/folders/4w/6dv4ws9j3_d0k473qtrr7yq80000gn/T/ipykernel_53268/1030515815.py:5: VisibleDeprecationWarning: Creating an ndarray from ragged nested sequences (which is a list-or-tuple of lists-or-tuples-or ndarrays with different lengths or shapes) is deprecated. If you meant to do this, you must specify 'dtype=object' when creating the ndarray.\n",
      "  tmp = np.isin(np.array(real_index)[i], obj[i])\n"
     ]
    },
    {
     "data": {
      "text/plain": [
       "[0.8, 0.75, 1.0, 1.0, 1.0, 0.9, 1.0, 0.625, 1.0, 1.0]"
      ]
     },
     "execution_count": 6,
     "metadata": {},
     "output_type": "execute_result"
    }
   ],
   "source": [
    "## VIMCO\n",
    "cs_vim_ref = [[32  ,47  ,50  ,64  ,74  ,78 ,139 ,185 ,191 ,200],\n",
    "              [17  ,40  ,85  ,88  ,90 ,109 ,125 ,133 ,162 ,185 ,186 ,188],\n",
    "              [11  ,39  ,48 ,104 ,120 ,137 ,140 ,158 ,182],\n",
    "              [5  ,21  ,35  ,46 ,104 ,114 ,124 ,131 ,174 ,199],\n",
    "              [17  ,35  ,47  ,57 ,101 ,115 ,127],\n",
    "              [36  ,47  ,56  ,92 ,124 ,140 ,151 ,158 ,165 ,198],\n",
    "              [47  ,70  ,83 ,102 ,104 ,109 ,149 ,195],\n",
    "              [8  ,14  ,22  ,36  ,37  ,42  ,45  ,65  ,68 ,118 ,123 ,134 ,147 ,175 ,189 ,198],\n",
    "              [17  ,52  ,84 ,110 ,137 ,171 ,172 ,188],\n",
    "              [5  ,30  ,66 ,127 ,149 ,164 ,177]]\n",
    "for i in range(0,len(cs_vim_ref)):\n",
    "     for j in range(0, len(cs_vim_ref[i])):\n",
    "        cs_vim_ref[i][j]-=1\n",
    "\n",
    "cs_vimco = cal_overlap(vim_object, cs_vim_ref)\n",
    "cs_vimco   "
   ]
  },
  {
   "cell_type": "code",
   "execution_count": 9,
   "metadata": {},
   "outputs": [
    {
     "data": {
      "image/png": "[encoded data removed]",
      "text/plain": [
       "<Figure size 640x480 with 1 Axes>"
      ]
     },
     "metadata": {},
     "output_type": "display_data"
    }
   ],
   "source": [
    "heights_cs = [np.mean(cs_mvsusie), np.mean(cs_vimco)]\n",
    "cs_mvsusie_std = np.std(cs_mvsusie)\n",
    "cs_vimco_std = np.std(cs_vimco)\n",
    "error = [cs_mvsusie_std, cs_vimco_std]\n",
    "x_label = [\"mvsusie\", \"VIMCO\"]\n",
    "\n",
    "fig, ax = plt.subplots()\n",
    "ax.bar(x_label, heights_cs, yerr=error,\n",
    "        align='center',\n",
    "        alpha=0.5,\n",
    "        ecolor='black',\n",
    "        capsize=10)\n",
    "ax.set_title('Credible Sets Coverage for ESNN (multiple outputs)')\n",
    "plt.savefig('bar_plot_mvsusie_vimco.png')\n",
    "plt.tight_layout()\n",
    "plt.show()"
   ]
  }
 ],
 "metadata": {
  "kernelspec": {
   "display_name": "Python 3.9.13 ('tensorflow')",
   "language": "python",
   "name": "python3"
  },
  "language_info": {
   "codemirror_mode": {
    "name": "ipython",
    "version": 3
   },
   "file_extension": ".py",
   "mimetype": "text/x-python",
   "name": "python",
   "nbconvert_exporter": "python",
   "pygments_lexer": "ipython3",
   "version": "3.9.13"
  },
  "orig_nbformat": 4,
  "vscode": {
   "interpreter": {
    "hash": "225f12a3df7524fac63039e98f48de09187d11dca1fa59837f4a6954bf6975fc"
   }
  }
 },
 "nbformat": 4,
 "nbformat_minor": 2
}
